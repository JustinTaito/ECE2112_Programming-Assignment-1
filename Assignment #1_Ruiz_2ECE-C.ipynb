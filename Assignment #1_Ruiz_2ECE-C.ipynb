{
 "cells": [
  {
   "cell_type": "markdown",
   "id": "028634ea-190b-40bb-82fc-c968f2a1d878",
   "metadata": {},
   "source": [
    "Ruiz, Justin Danrei C.  2ECE-C\n",
    "\n",
    "# Programming Assignment #1"
   ]
  },
  {
   "cell_type": "markdown",
   "id": "2c12b706-135f-42c8-84d9-be6ae5a57b50",
   "metadata": {},
   "source": [
    "## Alphabet Soup Problem:\n",
    "Create a function that takes a string and returns a string with its letters\n",
    "in alphabetical order.\n"
   ]
  },
  {
   "cell_type": "code",
   "execution_count": 1,
   "id": "552380cc-044a-419d-8524-09f94f98f968",
   "metadata": {},
   "outputs": [
    {
     "name": "stdout",
     "output_type": "stream",
     "text": [
      "ehllo\n",
      "acehkr\n"
     ]
    }
   ],
   "source": [
    "# Alphabet Soup Problem\n",
    "# The function alphabet_soup takes a word\n",
    "# and returns the letters arranged in alphabetical order.\n",
    "\n",
    "def alphabet_soup(word):  # declares a function alphabet_soup followed by a variable word\n",
    "    return \"\".join(sorted(word)) # returns a joined word followed by no space, basically: [\"h\", \"e\", \"l\", \"l\", \"o\"]\n",
    "\n",
    "print(alphabet_soup(\"hello\"))   # print 'ehllo'\n",
    "print(alphabet_soup(\"hacker\"))  # print 'acehkr'\n"
   ]
  },
  {
   "cell_type": "markdown",
   "id": "e3fe40aa-454c-449a-94fe-9dbdf5180523",
   "metadata": {},
   "source": [
    "## Emoticon Problem\n",
    "Create a function that changes specific words into emoticons. Given a sentence\n",
    "as a string, replace the words smile, grin, sad and mad with their corresponding emoticon"
   ]
  },
  {
   "cell_type": "code",
   "execution_count": 2,
   "id": "1d6065c1-c363-4d29-bfff-bf59ff82e380",
   "metadata": {},
   "outputs": [
    {
     "name": "stdout",
     "output_type": "stream",
     "text": [
      "Make me :)\n",
      "I am >:(\n"
     ]
    }
   ],
   "source": [
    "# Emoticon Problem\n",
    "# The function emotify takes a sentence string,\n",
    "# checks if certain emotion words are detected,\n",
    "# and replaces them with the appropriate emoticon.\n",
    "\n",
    "def emotify(sentence): # declares a function emotify followed by a variable sentence\n",
    "    replacements = {\"smile\": \":)\", \"grin\": \":D\", \"sad\": \":(\", \"mad\": \">:(\"} # Replacement function where each emotion word will be paired by an emoticon\n",
    "    words = sentence.split() # split function where it splits the word into a list. Automatically, it uses a space as a separator (Ex: [\"Make\", \"me\", \"smile\"])\n",
    "    result = [] # The result to be printed where the set will be joined together by a space \" \"\n",
    "\n",
    "# for loop where for word \n",
    "    for word in words: #\n",
    "        # Replace word if it exists in dictionary, otherwise keep it\n",
    "        result.append(replacements.get(word.lower(), word))\n",
    "        # Basically the result will append whatever it's in the parenthisis\n",
    "        # for every loop word, it'll append a replacement.get function, if a word exists at replacements, it'll get it (word.lower()), otherwise replace with (, word)\n",
    "        \n",
    "    return \" \".join(result) # returns a joined word followed by space\n",
    "\n",
    "print(emotify(\"Make me smile\"))    # Make me :)\n",
    "print(emotify(\"I am mad\"))         # I am >:(\n"
   ]
  },
  {
   "cell_type": "markdown",
   "id": "d071dc7c-566d-431f-ba3c-4c30934c23a1",
   "metadata": {},
   "source": [
    "## Unpacking list Problem\n",
    "Unpack the list writeyourcodehere into three variables, being first,\n",
    "middle, and last, with middle being everything in between the first and last element. Then print all three\n",
    "variables."
   ]
  },
  {
   "cell_type": "code",
   "execution_count": 4,
   "id": "982d26cb-1775-4d22-b76a-5b8a492fb293",
   "metadata": {},
   "outputs": [
    {
     "name": "stdout",
     "output_type": "stream",
     "text": [
      "first: 1\n",
      "middle: [2, 3, 4, 5]\n",
      "last: 6\n"
     ]
    }
   ],
   "source": [
    "# Unpack List Problem\n",
    "# The function unpack_list takes a list\n",
    "# and unpacks it into three variables: first, middle, and last.\n",
    "# middle will contain everything besides the first and last.\n",
    "\n",
    "def unpack_list(lst): # declares a function uunpack_list followed by a variable, lst\n",
    "    first, *middle, last = lst # let the first element be element, the last element be last, and everything else be in the middle, that's the point of *\n",
    "    print(\"first:\", first)\n",
    "    print(\"middle:\", middle)\n",
    "    print(\"last:\", last)\n",
    "\n",
    "unpack_list([1, 2, 3, 4, 5, 6])\n"
   ]
  },
  {
   "cell_type": "code",
   "execution_count": null,
   "id": "2269d217-9da8-460e-9225-c957d4999897",
   "metadata": {},
   "outputs": [],
   "source": []
  }
 ],
 "metadata": {
  "kernelspec": {
   "display_name": "Python [conda env:base] *",
   "language": "python",
   "name": "conda-base-py"
  },
  "language_info": {
   "codemirror_mode": {
    "name": "ipython",
    "version": 3
   },
   "file_extension": ".py",
   "mimetype": "text/x-python",
   "name": "python",
   "nbconvert_exporter": "python",
   "pygments_lexer": "ipython3",
   "version": "3.13.5"
  }
 },
 "nbformat": 4,
 "nbformat_minor": 5
}
