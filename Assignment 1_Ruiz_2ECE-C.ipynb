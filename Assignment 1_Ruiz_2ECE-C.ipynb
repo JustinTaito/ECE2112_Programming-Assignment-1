{
 "cells": [
  {
   "cell_type": "markdown",
   "id": "028634ea-190b-40bb-82fc-c968f2a1d878",
   "metadata": {},
   "source": [
    "Ruiz, Justin Danrei C.  2ECE-C\n",
    "\n",
    "# Programming Assignment #1"
   ]
  },
  {
   "cell_type": "markdown",
   "id": "2c12b706-135f-42c8-84d9-be6ae5a57b50",
   "metadata": {},
   "source": [
    "## Alphabet Soup Problem:\n",
    "Create a function that takes a string and returns a string with its letters\n",
    "in alphabetical order.\n"
   ]
  },
  {
   "cell_type": "code",
   "execution_count": 2,
   "id": "552380cc-044a-419d-8524-09f94f98f968",
   "metadata": {},
   "outputs": [
    {
     "name": "stdout",
     "output_type": "stream",
     "text": [
      "ehllo\n",
      "acehkr\n"
     ]
    }
   ],
   "source": [
    "# Alphabet Soup Problem\n",
    "# The function alphabet_soup takes a word\n",
    "# and returns the letters arranged in alphabetical order.\n",
    "\n",
    "# Arranging using lists and for loops\n",
    "def alphabet_soup(strng):  # declaring alphabet_soup\n",
    "    lists = [] # Declaring the list as an empty list first\n",
    "\n",
    "    lists = list(strng)  # the lists variable will hold the list version of as string\n",
    "    lists.sort()      # with the .sort function, it sorts each letter alphabetically\n",
    "    result = \"\"         # empty string that we will us to go back to normal\n",
    "    \n",
    "    for x in lists:  # For every x in the lists, result will have \"\" + the value of x in list\n",
    "        result += \"\" + x # let's say result = \"\" + x (which is currently h)\n",
    "    print(result) # prints the result\n",
    "# Test cases\n",
    "alphabet_soup(\"hello\")   # prints hello to ehllo\n",
    "alphabet_soup(\"hacker\")  # prints hacker to acehkr"
   ]
  },
  {
   "cell_type": "markdown",
   "id": "e3fe40aa-454c-449a-94fe-9dbdf5180523",
   "metadata": {},
   "source": [
    "## Emoticon Problem\n",
    "Create a function that changes specific words into emoticons. Given a sentence\n",
    "as a string, replace the words smile, grin, sad and mad with their corresponding emoticon"
   ]
  },
  {
   "cell_type": "code",
   "execution_count": 25,
   "id": "1d6065c1-c363-4d29-bfff-bf59ff82e380",
   "metadata": {},
   "outputs": [
    {
     "name": "stdout",
     "output_type": "stream",
     "text": [
      "Make me :)\n",
      "I am >:(\n"
     ]
    }
   ],
   "source": [
    "# Emoticon Problem\n",
    "# The function emotify takes a phrase string,\n",
    "# checks if certain emotion words are detected,\n",
    "# and replaces them with the appropriate emoticon.\n",
    "\n",
    "def emotify(phrase): # Declares emotify function\n",
    "\n",
    "    # Replaces \"smile\" in any capitalization with :D\n",
    "    phrase = phrase.replace(\"smile\", \":)\")  # Replaces smile with :)\n",
    "    phrase = phrase.replace(\"Smile\", \":)\")  # Replaces Smile with :)\n",
    "    phrase = phrase.replace(\"SMILE\", \":)\")   # Replaces SMILE with :)\n",
    "\n",
    "    # replaces \"grin\" in any capitalization with \":D\"\n",
    "    phrase = phrase.replace(\"grin\", \":D\") # Replaces grin with :D\n",
    "    phrase = phrase.replace(\"Grin\", \":D\") # Replaces Grin with :D\n",
    "    phrase = phrase.replace(\"GRIN\", \":D\") # Replaces GRIN with :D\n",
    "\n",
    "    # replaces \"sad\" in any capitalization with \":((\"\n",
    "    phrase = phrase.replace(\"sad\", \":((\") # Replaces sad with :((\n",
    "    phrase = phrase.replace(\"Sad\", \":((\") # Replaces Sad with :((\n",
    "    phrase = phrase.replace(\"SAD\", \":((\") # Replaces SAD with :((\n",
    "\n",
    "    # replaces \"mad\" in any capitalization with \">:(\"\n",
    "    phrase = phrase.replace(\"mad\", \">:(\") # Replaces mad with >:(\n",
    "    phrase = phrase.replace(\"Mad\", \">:(\") # Replaces Mad with >:(\n",
    "    phrase = phrase.replace(\"MAD\", \">:(\") # Replaces MAD with >:(\n",
    "\n",
    "    return phrase # returns the phrase\n",
    "\n",
    "print(emotify(\"Make me smile\"))    # Make me :)\n",
    "print(emotify(\"I am mad\"))         # I am >:("
   ]
  },
  {
   "cell_type": "markdown",
   "id": "d071dc7c-566d-431f-ba3c-4c30934c23a1",
   "metadata": {},
   "source": [
    "## Unpacking list Problem\n",
    "Unpack the list writeyourcodehere into three variables, being first,\n",
    "middle, and last, with middle being everything in between the first and last element. Then print all three\n",
    "variables."
   ]
  },
  {
   "cell_type": "code",
   "execution_count": 17,
   "id": "982d26cb-1775-4d22-b76a-5b8a492fb293",
   "metadata": {},
   "outputs": [
    {
     "name": "stdout",
     "output_type": "stream",
     "text": [
      "first: 1    middle: [2, 3, 4, 5]    last: 6\n"
     ]
    }
   ],
   "source": [
    "# Unpack List Problem\n",
    "# The function unpack_list takes a list\n",
    "# prints the list with the appropriate index and using slicing \n",
    "\n",
    "def unpack_list(lst): # Declares function unpack_list\n",
    "    print(\"first:\", lst[0], \"   middle:\", lst[1:-1], \"   last:\", lst[-1]) # Since list's elements start at 0, it picks the 0 index, in the middle, the 1st index or the 2nd element up until the -1 which is the last\n",
    "    # then the last prints the -1 index or the last element\n",
    "\n",
    "unpack_list([1, 2, 3, 4, 5, 6]) # Prints the result based on the list\n"
   ]
  }
 ],
 "metadata": {
  "kernelspec": {
   "display_name": "Python [conda env:base] *",
   "language": "python",
   "name": "conda-base-py"
  },
  "language_info": {
   "codemirror_mode": {
    "name": "ipython",
    "version": 3
   },
   "file_extension": ".py",
   "mimetype": "text/x-python",
   "name": "python",
   "nbconvert_exporter": "python",
   "pygments_lexer": "ipython3",
   "version": "3.13.5"
  }
 },
 "nbformat": 4,
 "nbformat_minor": 5
}
